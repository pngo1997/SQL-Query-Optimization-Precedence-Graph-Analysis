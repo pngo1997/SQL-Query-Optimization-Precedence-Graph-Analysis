{
 "cells": [
  {
   "cell_type": "markdown",
   "id": "c015a12e-9e49-4929-8965-ebee4ad74eac",
   "metadata": {},
   "source": [
    "### Part 1"
   ]
  },
  {
   "cell_type": "code",
   "execution_count": 1,
   "id": "91c5266a-cdb9-466b-9dfc-3af3ecd6f59e",
   "metadata": {},
   "outputs": [],
   "source": [
    "tableCommand = {'User': '''\n",
    "CREATE TABLE User (\n",
    "    ID               NUMBER(35),\n",
    "    NAME             VARCHAR2(10000),\n",
    "    SCREEN_NAME      VARCHAR2(1000),\n",
    "    DESCRIPTION      VARCHAR2(100000),\n",
    "    FRIENDS_COUNT    NUMBER(35),\n",
    "  \n",
    "    CONSTRAINT User_PK\n",
    "        PRIMARY KEY(ID)\n",
    ");''',\n",
    "                'Geo':'''\n",
    "CREATE TABLE Geo (\n",
    "    GEO_ID       NUMBER(35),\n",
    "    TYPE         VARCHAR2(100),\n",
    "    LONGITUDE    DECIMAL(9,6),\n",
    "    LATITUDE     DECIMAL(9,6),\n",
    "    \n",
    "    CONSTRAINT Geo_PK\n",
    "        PRIMARY KEY(Geo_ID)\n",
    ");''',\n",
    "                'Tweet':'''\n",
    "CREATE TABLE Tweet (\n",
    "    CREATED_AT                 VARCHAR2(35),\n",
    "    ID_STR                     VARCHAR2(35),\n",
    "    TEXT                       VARCHAR2(1000),\n",
    "    SOURCE                     VARCHAR2(500),\n",
    "    IN_REPLY_TO_USER_ID        NUMBER(35),\n",
    "    IN_REPLY_TO_SCREEN_NAME    VARCHAR2(200),\n",
    "    IN_REPLY_TO_STATUS_ID      NUMBER(35),\n",
    "    RETWEET_COUNT              NUMBER(50),\n",
    "    CONTRIBUTORS               VARCHAR2(1000),\n",
    "    USER_ID                    NUMBER(35), \n",
    "    GEO_ID                     NUMBER(35), \n",
    "  \n",
    "    CONSTRAINT Tweet_FK\n",
    "        FOREIGN KEY(USER_ID)\n",
    "        REFERENCES User(ID),\n",
    "    CONSTRAINT Geo_FK\n",
    "        FOREIGN KEY(GEO_ID)\n",
    "        REFERENCES Geo(GEO_ID));'''}"
   ]
  },
  {
   "cell_type": "code",
   "execution_count": 2,
   "id": "02cf7ab7-bf07-4899-835a-649811ecf2c6",
   "metadata": {},
   "outputs": [],
   "source": [
    "import sqlite3\n",
    "import os\n",
    "import urllib.request\n",
    "import json\n",
    "\n",
    "def text_populateSQL(tableCommands, tableInfo, dataURL):\n",
    "    '''Takes data URL, table commands, table info (name and attributes), and data URL. \n",
    "    Create corresponding tables and populate them with input data.'''\n",
    "    \n",
    "    connection = sqlite3.connect('DSC450-Assignment9-Part1.db')\n",
    "    cursor = connection.cursor()\n",
    "    \n",
    "    urlData = urllib.request.urlopen(dataURL)\n",
    "    dataString = urlData.read().decode('utf-8')\n",
    "\n",
    "    tweetData = []\n",
    "    errorTweet = []\n",
    "    \n",
    "    #Read data.\n",
    "    for line in dataString.strip().split('\\n'):        \n",
    "        try: \n",
    "            tweet_json = json.loads(line.strip())\n",
    "            tweetData.append(tweet_json)\n",
    "        except json.JSONDecodeError:\n",
    "            errorTweet.append(line)    \n",
    "    \n",
    "    print(f\"Number of tweets retrieve: {len(tweetData)}\")\n",
    "    \n",
    "    #Iterate and populate each table.\n",
    "    for tableName, tableCommand in tableCommands.items():\n",
    "        cursor.execute(f\"DROP TABLE IF EXISTS {tableName}\")\n",
    "        connection.commit()\n",
    "        cursor.execute(tableCommand)\n",
    "        \n",
    "        #Get placeholders for insert statements. \n",
    "        attributeName = tableInfo[tableName]\n",
    "        attributeNum = len(attributeName)\n",
    "        placeholder = ','.join(['?'] * attributeNum) \n",
    "        \n",
    "        for tweet in tweetData: #Iterate through each tweet.\n",
    "            try:\n",
    "                tweetValues = [] #List to store insert values.\n",
    "                retrievedAttributes = set() #Set to make sure no duplicate attribute retrieve. \n",
    "                \n",
    "                for attribute in attributeName:\n",
    "                    noncap_tableName = tableName.lower()\n",
    "                    nestAttribute = tweet.get(noncap_tableName, {}) #Retrieve nested dictionary.\n",
    "                    if noncap_tableName == 'geo' and nestAttribute is None: \n",
    "                    #To handle 'geo' table values where geo dictionary = null.\n",
    "                        tweetValues.append(None) \n",
    "                    elif nestAttribute is not None:\n",
    "                        if attribute == 'user_id': #Handle 'user_id'. \n",
    "                            special_nestAttribute = tweet.get('user', {})\n",
    "                            tweetValues.append(special_nestAttribute['id']) #Retrieve 'user_id' with user nested dict.\n",
    "                            retrievedAttributes.add(attribute) \n",
    "                        elif attribute in nestAttribute:\n",
    "                            tweetValues.append(nestAttribute[attribute]) #To handle 'user' table.\n",
    "                            retrievedAttributes.add(attribute)\n",
    "                        elif noncap_tableName == 'geo': #To handle 'geo' table, specifically 'geo_id'.\n",
    "                            coordinates = nestAttribute.get('coordinates', [])\n",
    "                            geoValues = (nestAttribute['type'], coordinates[0], coordinates[1])\n",
    "                            cursor.execute(\"INSERT OR IGNORE INTO geo (type, longitude, latitude) VALUES (?, ?, ?)\", geoValues)\n",
    "                            connection.commit()\n",
    "                            cursor.execute(\"SELECT geo_id FROM geo WHERE type = ? AND longitude = ? AND latitude = ?\", geoValues)\n",
    "                            geoID = cursor.fetchone()[0] #Retrieve geo_id as unique identifier of each entry. \n",
    "                            tweetValues.append(geoID)  \n",
    "                        elif attribute in tweet and attribute not in retrievedAttributes:\n",
    "                            tweetValues.append(tweet[attribute]) #To handle 'tweet' table. \n",
    "                    else: \n",
    "                        tweetValues.append(None) #If attribute doesn't exists in tweet data.\n",
    "                \n",
    "                if tableName == 'Tweet': \n",
    "                    tweetValues.append(geoID) #Attach 'geo_id' to last column. \n",
    "                tweetValues = tuple(tweetValues) #Convert to tuple for insert statement. \n",
    "                cursor.execute(f'INSERT OR IGNORE INTO {tableName} VALUES ({placeholder})', tweetValues)\n",
    "                \n",
    "            except ValueError:\n",
    "                errorTweet.append(json.dumps(tweet)) #Store errors tweet. \n",
    "    \n",
    "    #Write error tweets to text file.\n",
    "    error_textFile = 'Module9_errors.txt'\n",
    "    with open(error_textFile, 'w', encoding='utf-8') as infile:\n",
    "        for error in errorTweet:\n",
    "            infile.write(error + '\\n')\n",
    "    \n",
    "    connection.commit()\n",
    "    connection.close()\n",
    "\n",
    "    return \"Successfully created tables and inserted data.\""
   ]
  },
  {
   "cell_type": "code",
   "execution_count": 3,
   "id": "9e1a3f9d-7d80-4f75-b0db-205620b9aec1",
   "metadata": {},
   "outputs": [
    {
     "name": "stdout",
     "output_type": "stream",
     "text": [
      "Number of tweets retrieve: 9797\n"
     ]
    },
    {
     "data": {
      "text/plain": [
       "'Successfully created tables and inserted data.'"
      ]
     },
     "execution_count": 3,
     "metadata": {},
     "output_type": "execute_result"
    }
   ],
   "source": [
    "textURL = 'https://dbgroup.cdm.depaul.edu/DSC450/Module7.txt'\n",
    "tableInfo = {'User':[\"id\", \"name\", \"screen_name\", \"description\", \"friends_count\"], \n",
    "             'Geo': [\"geo_id\", \"type\", \"longitude\", \"latitude\"],\n",
    "             'Tweet': [\"created_at\", \"id_str\", \"text\", \"source\", \"in_reply_to_user_id\", \n",
    "                       \"in_reply_to_screen_name\", \"in_reply_to_status_id\", \n",
    "                       \"retweet_count\", \"contributors\", \"user_id\", \"geo_id\"]}\n",
    "text_populateSQL(tableCommand, tableInfo , textURL)"
   ]
  },
  {
   "cell_type": "markdown",
   "id": "5844f2e7-1828-47c3-96c1-1c81d17325f2",
   "metadata": {},
   "source": [
    "#### a) Write and execute a SQL query to do the following: Find tweets where tweet id_str contains “89” or “78” anywhere in the column. Time and report the runtime of your query."
   ]
  },
  {
   "cell_type": "code",
   "execution_count": 4,
   "id": "8bbeb0db-d4cc-4776-a8b3-800d86a9bd91",
   "metadata": {},
   "outputs": [
    {
     "name": "stdout",
     "output_type": "stream",
     "text": [
      "Query runtime: 0.039386 seconds\n",
      "[('Tue May 20 00:00:19 +0000 2014', '468541694288207874', 'la asusto a selena me dice es joda te vy a extrañar jajajajaja ni m fui pero ta vy a tener tiempo libre y todo wi', '<a href=\"https://mobile.twitter.com\" rel=\"nofollow\">Mobile Web (M2)</a>', None, None, None, 0, None, 367361405, None), ('Tue May 20 00:00:19 +0000 2014', '468541694305398784', 'hoy me quiso afanar un negro cuando salia de aleman', 'web', None, None, None, 0, None, 570536694, None), ('Tue May 20 00:00:19 +0000 2014', '468541694288207872', 'RT @hemmings_tho: Can twitter please stop fucking up I swear #twitterfuckedupfollowparty', '<a href=\"http://twitter.com/download/android\" rel=\"nofollow\">Twitter for Android</a>', None, None, None, 0, None, 1959608522, None), ('Tue May 20 00:00:19 +0000 2014', '468541694288592898', \"If you're one of those people that sends the same snapchat out personally and on your story I hate you.\", '<a href=\"http://twitter.com/download/iphone\" rel=\"nofollow\">Twitter for iPhone</a>', None, None, None, 0, None, 1167821629, None), ('Tue May 20 00:00:19 +0000 2014', '468541694288592897', 'RT @FutureMarine_x3: #brianmyniggabestfriend 😂😂', '<a href=\"http://twitter.com/download/android\" rel=\"nofollow\">Twitter for Android</a>', None, None, None, 0, None, 731507652, None), ('Tue May 20 00:00:19 +0000 2014', '468541694292787200', 'Que voy a hacer, cuál es el camino a seguir?', 'web', None, None, None, 0, None, 865849375, None), ('Tue May 20 00:00:19 +0000 2014', '468541694305378305', '20ЛюбимыхМужчин 10) Джозеф Морган. Можно и без лишних слов &amp;lt;3', 'web', None, None, None, 0, None, 2451872370, None), ('Tue May 20 00:00:19 +0000 2014', '468541694313787392', 'Que ganas de ir al cine :c', '<a href=\"http://store.ovi.com/content/256340\" rel=\"nofollow\">Twitter for Nokia S40</a>', None, None, None, 0, None, 1959902240, None), ('Tue May 20 00:00:20 +0000 2014', '468541698511892480', 'あーーー最近めっちゃだるいしきついし、もぅゃだ。。。リスカしょ。。。状態だったけど（笑）\\nやーっと浮上できた！とりあえず存在無視してた課題やって溜まってるDVDみて\\n今日の2限は遅刻しよう。\\n明日から遅刻しない笑', '<a href=\"http://twitter.com/download/iphone\" rel=\"nofollow\">Twitter for iPhone</a>', None, None, None, 0, None, 267066684, None), ('Tue May 20 00:00:20 +0000 2014', '468541698478321664', 'RT @sky_larson: Butt workout 101', '<a href=\"http://twitter.com/download/iphone\" rel=\"nofollow\">Twitter for iPhone</a>', None, None, None, 0, None, 252807874, None)]\n"
     ]
    }
   ],
   "source": [
    "import time\n",
    "\n",
    "startTime = time.time()\n",
    "\n",
    "connection = sqlite3.connect('DSC450-Assignment9-Part1.db')\n",
    "cursor = connection.cursor()\n",
    "cursor.execute(\"SELECT * FROM TWEET WHERE id_str LIKE '%89%' OR id_str LIKE '%78%';\")\n",
    "results_A = cursor.fetchall()\n",
    "\n",
    "endTime = time.time()\n",
    "runTime_A = endTime - startTime\n",
    "print(f\"Query runtime: {runTime_A:4f} seconds\")\n",
    "print(results_A[:10])"
   ]
  },
  {
   "cell_type": "markdown",
   "id": "d3fe1a9d-38a4-4b60-8145-5904e61d0d87",
   "metadata": {},
   "source": [
    "#### b) Write the equivalent of the previous query in python (without using SQL) by reading it from the file. Time and report the runtime of your query. "
   ]
  },
  {
   "cell_type": "code",
   "execution_count": null,
   "id": "97217faa-6851-42b0-b098-e7febd002ac5",
   "metadata": {},
   "outputs": [],
   "source": [
    "urlData = urllib.request.urlopen(\"https://dbgroup.cdm.depaul.edu/DSC450/Module7.txt\")\n",
    "dataString = urlData.read().decode('utf-8')\n",
    "    \n",
    "tweetData = []\n",
    "for line in dataString.strip().split('\\n'):        \n",
    "    try: \n",
    "        tweet_json = json.loads(line.strip())\n",
    "        tweetData.append(tweet_json)\n",
    "    except json.JSONDecodeError:\n",
    "        continue    \n",
    "\n",
    "startTime = time.time()\n",
    "tweetResults = []\n",
    "for tweet in tweetData:\n",
    "    if \"89\" in tweet['id_str'] or \"78\" in tweet[\"id_str\"]:\n",
    "        tweetResults.append (tweet)        \n",
    "endTime = time.time()\n",
    "runTime_B = endTime - startTime\n",
    "print(f\"Query runtime: {runTime_B:4f} seconds\")\n",
    "print(tweetResults[0])"
   ]
  },
  {
   "cell_type": "markdown",
   "id": "d3dca7a2-50e9-49b1-a9db-6c2e3a05045e",
   "metadata": {},
   "source": [
    "c) Write and execute a SQL query to do the following. Time and report the runtime of your query. Find how many unique values are there in the “friends_count” column."
   ]
  },
  {
   "cell_type": "code",
   "execution_count": null,
   "id": "648f03e3-8193-43a1-a79b-d0dcfeaebe76",
   "metadata": {},
   "outputs": [],
   "source": [
    "startTime = time.time()\n",
    "\n",
    "connection = sqlite3.connect('DSC450-Assignment9-Part1.db')\n",
    "cursor = connection.cursor()\n",
    "cursor.execute(\"SELECT COUNT(DISTINCT friends_count) as friends_countUnique FROM User;\")\n",
    "results_C = cursor.fetchone()[0]\n",
    "\n",
    "endTime = time.time()\n",
    "runTime_C = endTime - startTime\n",
    "print(f\"Query runtime: {runTime_C:4f} seconds\")\n",
    "print(f\"Number of unique values in 'friends_count' column: {results_C}\")"
   ]
  },
  {
   "cell_type": "markdown",
   "id": "dba2b2de-1b28-45a9-ac62-4648a4d9a728",
   "metadata": {},
   "source": [
    "d) Write the equivalent of the previous query in python (without using SQL) by reading it from the file. Time and report the runtime of your query. "
   ]
  },
  {
   "cell_type": "code",
   "execution_count": null,
   "id": "7fd25103-eba0-4698-9cdf-fda8e84367a5",
   "metadata": {},
   "outputs": [],
   "source": [
    "startTime = time.time()\n",
    "friendsCount = set()\n",
    "for tweet in tweetData:\n",
    "    user = tweet.get('user', {})\n",
    "    friends_countNum = user.get('friends_count')\n",
    "    friendsCount.add(friends_countNum)      \n",
    "endTime = time.time()\n",
    "runTime_D = endTime - startTime\n",
    "print(f\"Query runtime: {runTime_D:4f} seconds\")\n",
    "print(f\"Number of unique values in 'friends_count' column: {len(friendsCount)}\")"
   ]
  },
  {
   "cell_type": "markdown",
   "id": "87c39741-377a-404c-aa3e-8bd57c5456ed",
   "metadata": {},
   "source": [
    "e) Use python to plot the lengths of first 60 tweets (only 60, not all of the tweets) versus the length of the username for the user on a graph. Create a scatterplot. Submit both your python code and the resulting graph file."
   ]
  },
  {
   "cell_type": "code",
   "execution_count": null,
   "id": "04d70751-1269-4895-90b5-219abb35003a",
   "metadata": {},
   "outputs": [],
   "source": [
    "import matplotlib.pyplot as plt\n",
    "\n",
    "tweetLengths = [len(tweet['text']) for tweet in tweetData[:60]]\n",
    "usernameLengths = [len(tweet['user']['screen_name']) for tweet in tweetData[:60]]\n",
    "plt.figure(figsize=(10, 6)) #Adjust bigger to see more disctinct points.\n",
    "plt.scatter(usernameLengths, tweetLengths, color='darkred', alpha=0.5)\n",
    "plt.title('Username vs. Tweet Lengths: First 60 Tweets')\n",
    "plt.xlabel('Length of Username')\n",
    "plt.ylabel('Length of Tweet')\n",
    "plt.grid(True)\n",
    "#plt.savefig('Part 1E Scatterplot.png')\n",
    "plt.show()"
   ]
  },
  {
   "cell_type": "markdown",
   "id": "b94ae7c7-52f1-4428-9e44-b9136b2c1062",
   "metadata": {},
   "source": [
    "### Part 2"
   ]
  },
  {
   "cell_type": "markdown",
   "id": "842b9340-346d-4473-b3d5-a787873e00f8",
   "metadata": {},
   "source": [
    "a) Create an index on userid in Tweet table in SQLite (submit SQL code for this question). These questions are as straightforward as they appear, you just need to create an index."
   ]
  },
  {
   "cell_type": "code",
   "execution_count": null,
   "id": "87a0dfa4-d7c6-4fe5-85ae-760bd1b8e87c",
   "metadata": {},
   "outputs": [],
   "source": [
    "connection = sqlite3.connect('DSC450-Assignment9-Part1.db')\n",
    "cursor = connection.cursor()\n",
    "\n",
    "cursor.execute(\"DROP INDEX IF EXISTS USER_IDX;\")\n",
    "cursor.execute(\"CREATE INDEX USER_IDX ON tweet(user_id);\")\n",
    "user_indexInfo = cursor.execute(f\"PRAGMA index_info('USER_IDX');\").fetchall()\n",
    "\n",
    "if len(user_indexInfo) > 0:\n",
    "    print(f\"'USER_IDX' index exists.\")\n",
    "else: print(f\"'USER_IDX' index does not exist.\")\n",
    "\n",
    "connection.commit()\n",
    "connection.close()"
   ]
  },
  {
   "cell_type": "markdown",
   "id": "7adaf74c-da0e-46d6-aa9b-410488fb14f7",
   "metadata": {},
   "source": [
    "b) Create a composite index on (friends_count, screen_name) in User table (submit SQL code for this question)."
   ]
  },
  {
   "cell_type": "code",
   "execution_count": null,
   "id": "965fab42-2da8-460e-84b5-217d90389d8e",
   "metadata": {},
   "outputs": [],
   "source": [
    "connection = sqlite3.connect('DSC450-Assignment9-Part1.db')\n",
    "cursor = connection.cursor()\n",
    "\n",
    "cursor.execute(\"DROP INDEX IF EXISTS COMP_IDX;\")\n",
    "cursor.execute(\"CREATE INDEX COMP_IDX ON User(friends_count, screen_name);\")\n",
    "\n",
    "comp_indexInfo = cursor.execute(f\"PRAGMA index_info('COMP_IDX');\").fetchall()\n",
    "\n",
    "if len(comp_indexInfo) > 0:\n",
    "    print(f\"'COMP_IDX' index exists.\")\n",
    "else: print(f\"'COMP_IDX' index does not exist.\")\n",
    "connection.commit()\n",
    "connection.close()"
   ]
  },
  {
   "cell_type": "markdown",
   "id": "f909bd88-e139-415c-bf23-aff58f7c684d",
   "metadata": {},
   "source": [
    "c) Create a materialized view (using CREATE TABLE AS because SQLite does not have full support for MVs) that answers the query in Part-1-a: Write and execute a SQL query to do the following: Find tweets where tweet id_str contains “89” or “78” anywhere in the column. Time and report the runtime of your query. Submit your SQL code."
   ]
  },
  {
   "cell_type": "code",
   "execution_count": null,
   "id": "6cc965d8-45be-4a86-b458-c5a892ae1c28",
   "metadata": {},
   "outputs": [],
   "source": [
    "connection = sqlite3.connect('DSC450-Assignment9-Part1.db')\n",
    "cursor = connection.cursor()\n",
    "\n",
    "cursor.execute(\"DROP TABLE IF EXISTS PART_1A;\")\n",
    "cursor.execute(\"CREATE TABLE PART_1A AS SELECT * FROM tweet WHERE id_str LIKE '%89%' OR id_str LIKE '%78%';\")\n",
    "cursor.execute(\"SELECT * FROM PART_1A LIMIT 3;\")\n",
    "results = cursor.fetchall()\n",
    "for row in results:\n",
    "    print(row)\n",
    "\n",
    "connection.commit()\n",
    "connection.close()"
   ]
  },
  {
   "cell_type": "code",
   "execution_count": null,
   "id": "02d7f7fd-2dcb-47de-bd59-0e4b10045aa6",
   "metadata": {},
   "outputs": [],
   "source": []
  }
 ],
 "metadata": {
  "kernelspec": {
   "display_name": "Python 3 (ipykernel)",
   "language": "python",
   "name": "python3"
  },
  "language_info": {
   "codemirror_mode": {
    "name": "ipython",
    "version": 3
   },
   "file_extension": ".py",
   "mimetype": "text/x-python",
   "name": "python",
   "nbconvert_exporter": "python",
   "pygments_lexer": "ipython3",
   "version": "3.9.13"
  }
 },
 "nbformat": 4,
 "nbformat_minor": 5
}
